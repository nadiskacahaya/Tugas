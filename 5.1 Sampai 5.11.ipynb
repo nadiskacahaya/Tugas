{
 "cells": [
  {
   "cell_type": "markdown",
   "id": "aa9aace1",
   "metadata": {},
   "source": [
    "5.1 Print"
   ]
  },
  {
   "cell_type": "code",
   "execution_count": 1,
   "id": "8a68e69c",
   "metadata": {},
   "outputs": [
    {
     "name": "stdout",
     "output_type": "stream",
     "text": [
      "Saya sedang belajar Algoritma\n"
     ]
    }
   ],
   "source": [
    "print(\"Saya sedang belajar Algoritma\")"
   ]
  },
  {
   "cell_type": "code",
   "execution_count": 2,
   "id": "51c41d27",
   "metadata": {},
   "outputs": [
    {
     "name": "stdout",
     "output_type": "stream",
     "text": [
      "Saya sedang belajar jupyter notebook\n"
     ]
    }
   ],
   "source": [
    "print('Saya sedang belajar jupyter notebook')"
   ]
  },
  {
   "cell_type": "code",
   "execution_count": 3,
   "id": "e5c4b762",
   "metadata": {},
   "outputs": [
    {
     "name": "stdout",
     "output_type": "stream",
     "text": [
      "I can't speak korean\n"
     ]
    }
   ],
   "source": [
    "print(\"I can't speak korean\")"
   ]
  },
  {
   "cell_type": "code",
   "execution_count": 4,
   "id": "d0fbc7f5",
   "metadata": {},
   "outputs": [
    {
     "name": "stdout",
     "output_type": "stream",
     "text": [
      "Nadiska berkata, \"Kamu sedang apa nad?\"\n"
     ]
    }
   ],
   "source": [
    "print('Nadiska berkata, \"Kamu sedang apa nad?\"')"
   ]
  },
  {
   "cell_type": "code",
   "execution_count": 5,
   "id": "4d9ece6c",
   "metadata": {},
   "outputs": [
    {
     "name": "stdout",
     "output_type": "stream",
     "text": [
      "2\n",
      "100000\n",
      "20000\n"
     ]
    }
   ],
   "source": [
    "mahasiswa = 2\n",
    "uang_di_dompet = 100000\n",
    "uang_di_saku = 20000\n",
    "print(mahasiswa)\n",
    "print(uang_di_dompet)\n",
    "print(uang_di_saku)"
   ]
  },
  {
   "cell_type": "code",
   "execution_count": 6,
   "id": "ffc47e7e",
   "metadata": {},
   "outputs": [
    {
     "name": "stdout",
     "output_type": "stream",
     "text": [
      "Putu Nadiska Cahaya\n"
     ]
    }
   ],
   "source": [
    "nama_depan = \"Putu \"\n",
    "nama_tengah = \"Nadiska \"\n",
    "nama_belakang = \"Cahaya\"\n",
    "print(nama_depan + nama_tengah + nama_belakang)"
   ]
  },
  {
   "cell_type": "markdown",
   "id": "6ea52f92",
   "metadata": {},
   "source": [
    "5.2 Input"
   ]
  },
  {
   "cell_type": "code",
   "execution_count": 7,
   "id": "4ce5255c",
   "metadata": {},
   "outputs": [
    {
     "name": "stdout",
     "output_type": "stream",
     "text": [
      "Siapakah nama Anda? Nadiska\n",
      "Apa kegiatan yang Anda lakukan sekarang? belajar dan kepanitian\n",
      "Bisa yuk bisa belajar dan kepanitian nya, Nadiska!\n"
     ]
    }
   ],
   "source": [
    "nama = input(\"Siapakah nama Anda? \")\n",
    "kegiatan = input(\"Apa kegiatan yang Anda lakukan sekarang? \")\n",
    "print(\"Bisa yuk bisa \" + kegiatan + \" nya, \" + nama + \"!\")"
   ]
  },
  {
   "cell_type": "code",
   "execution_count": 8,
   "id": "57a79cb7",
   "metadata": {},
   "outputs": [
    {
     "name": "stdout",
     "output_type": "stream",
     "text": [
      "Berapa umur Anda sekarang? 18\n",
      "Siapa nama Anda? Nadiska\n",
      "Ulang Tahun Nadiska yang ke 18, sukses dan sehat selalu ya \n"
     ]
    }
   ],
   "source": [
    "umur = input(\"Berapa umur Anda sekarang? \")\n",
    "nama = input(\"Siapa nama Anda? \")\n",
    "print(\"Ulang Tahun \" + nama + \" yang ke \" + umur + \", sukses dan sehat selalu ya \")"
   ]
  },
  {
   "cell_type": "markdown",
   "id": "6b4815ee",
   "metadata": {},
   "source": [
    "5.3 Tipe Data pada Python"
   ]
  },
  {
   "cell_type": "code",
   "execution_count": 9,
   "id": "e195a109",
   "metadata": {},
   "outputs": [
    {
     "name": "stdout",
     "output_type": "stream",
     "text": [
      "Berapakah jumlah uang di saku Anda? 20000\n",
      "Berapakah jumlah uang di dompet Anda? 100000\n",
      "Berapakah jumlah uang di bank? 400000\n",
      "Total uang Anda adalh Rp520000\n"
     ]
    }
   ],
   "source": [
    "uang_di_saku = input(\"Berapakah jumlah uang di saku Anda? \")\n",
    "uang_di_dompet = input(\"Berapakah jumlah uang di dompet Anda? \")\n",
    "uang_di_bank = input(\"Berapakah jumlah uang di bank? \")\n",
    "total_uang = int(uang_di_saku) + int(uang_di_dompet) + int(uang_di_bank)\n",
    "print(\"Total uang Anda adalh Rp\" + str(total_uang))"
   ]
  },
  {
   "cell_type": "code",
   "execution_count": 10,
   "id": "5f5544f8",
   "metadata": {},
   "outputs": [
    {
     "data": {
      "text/plain": [
       "str"
      ]
     },
     "execution_count": 10,
     "metadata": {},
     "output_type": "execute_result"
    }
   ],
   "source": [
    "type(uang_di_saku)"
   ]
  },
  {
   "cell_type": "code",
   "execution_count": 11,
   "id": "4bc51370",
   "metadata": {},
   "outputs": [
    {
     "data": {
      "text/plain": [
       "str"
      ]
     },
     "execution_count": 11,
     "metadata": {},
     "output_type": "execute_result"
    }
   ],
   "source": [
    "type(uang_di_dompet)"
   ]
  },
  {
   "cell_type": "code",
   "execution_count": 12,
   "id": "7526a310",
   "metadata": {},
   "outputs": [
    {
     "data": {
      "text/plain": [
       "str"
      ]
     },
     "execution_count": 12,
     "metadata": {},
     "output_type": "execute_result"
    }
   ],
   "source": [
    "type(uang_di_bank)"
   ]
  },
  {
   "cell_type": "code",
   "execution_count": 13,
   "id": "760d3318",
   "metadata": {},
   "outputs": [
    {
     "data": {
      "text/plain": [
       "int"
      ]
     },
     "execution_count": 13,
     "metadata": {},
     "output_type": "execute_result"
    }
   ],
   "source": [
    "type(total_uang)"
   ]
  },
  {
   "cell_type": "code",
   "execution_count": 14,
   "id": "521ff47b",
   "metadata": {},
   "outputs": [
    {
     "name": "stdout",
     "output_type": "stream",
     "text": [
      "Masukkan bilangan pertama 2\n",
      "Masukkan bilangan kedua 3\n",
      "Masukkan bilangan ketiga 7\n",
      "Jumlah ketiga bilangan tersebut adalah 12.0\n"
     ]
    }
   ],
   "source": [
    "bilangan_pertama = input(\"Masukkan bilangan pertama \")\n",
    "bilangan_kedua = input(\"Masukkan bilangan kedua \")\n",
    "bilangan_ketiga = input(\"Masukkan bilangan ketiga \")\n",
    "jumlah = float(bilangan_pertama) + float(bilangan_kedua) + float(bilangan_ketiga)\n",
    "print(\"Jumlah ketiga bilangan tersebut adalah \" + str(jumlah))"
   ]
  },
  {
   "cell_type": "code",
   "execution_count": 15,
   "id": "5c73d0d5",
   "metadata": {},
   "outputs": [
    {
     "name": "stdout",
     "output_type": "stream",
     "text": [
      "Masukkan bilangan pertama 9\n",
      "Masukkan bilangan kedua 2\n",
      "Selisih kedua bilangan tersebut adalah 7.0\n"
     ]
    }
   ],
   "source": [
    "bilangan_pertama = input(\"Masukkan bilangan pertama \")\n",
    "bilangan_kedua = input(\"Masukkan bilangan kedua \")\n",
    "jumlah = float(bilangan_pertama) - float(bilangan_kedua)\n",
    "print(\"Selisih kedua bilangan tersebut adalah \" + str(jumlah))"
   ]
  },
  {
   "cell_type": "code",
   "execution_count": 16,
   "id": "deb16da7",
   "metadata": {},
   "outputs": [
    {
     "name": "stdout",
     "output_type": "stream",
     "text": [
      "Masukkan bilangan pertama 5\n",
      "Masukkan bilangan kedua 8\n",
      "Selisih kedua bilangan tersebut adalah -3.0\n"
     ]
    }
   ],
   "source": [
    "bilangan_pertama = input('Masukkan bilangan pertama ')\n",
    "bilangan_kedua = input('Masukkan bilangan kedua ')\n",
    "jumlah = float(bilangan_pertama) - float(bilangan_kedua)\n",
    "print('Selisih kedua bilangan tersebut adalah ' + str(jumlah))"
   ]
  },
  {
   "cell_type": "code",
   "execution_count": 17,
   "id": "f44e8109",
   "metadata": {},
   "outputs": [
    {
     "name": "stdout",
     "output_type": "stream",
     "text": [
      "Masukkan bilangan pertama 10\n",
      "Masukkan bilangan kedua 7\n",
      "Hasil perkalian kedua bilangan tersebut adalah 70.0\n"
     ]
    }
   ],
   "source": [
    "bilangan_pertama = input('Masukkan bilangan pertama ')\n",
    "bilangan_kedua = input('Masukkan bilangan kedua ')\n",
    "jumlah = float(bilangan_pertama) * float(bilangan_kedua)\n",
    "print('Hasil perkalian kedua bilangan tersebut adalah ' + str(jumlah))"
   ]
  },
  {
   "cell_type": "markdown",
   "id": "10378471",
   "metadata": {},
   "source": [
    "5.4 Formatted String"
   ]
  },
  {
   "cell_type": "code",
   "execution_count": 18,
   "id": "cdb7f9cd",
   "metadata": {},
   "outputs": [],
   "source": [
    "nama = 'Sri'\n",
    "pekerjaan = 'guru bahasa indonesia'\n",
    "institusi = 'SMAK Harapan Denpasar'\n",
    "hobi = 'membaca buku'"
   ]
  },
  {
   "cell_type": "code",
   "execution_count": 19,
   "id": "86688360",
   "metadata": {},
   "outputs": [
    {
     "name": "stdout",
     "output_type": "stream",
     "text": [
      "Sri adalah seorang guru bahasa indonesia di SMAK Harapan Denpasar dan memiliki hobi membaca buku.\n"
     ]
    }
   ],
   "source": [
    "print(f'{nama} adalah seorang {pekerjaan} di {institusi} dan memiliki hobi {hobi}.')"
   ]
  },
  {
   "cell_type": "code",
   "execution_count": 20,
   "id": "5d095843",
   "metadata": {},
   "outputs": [],
   "source": [
    "nama = 'Nadiska'\n",
    "asal = 'bali'\n",
    "pekerjaan = 'mahasiswa'\n",
    "universitas = 'Universitas Udayana'\n",
    "falkutas = 'MIPA'\n",
    "prodi = 'matematika'"
   ]
  },
  {
   "cell_type": "code",
   "execution_count": 21,
   "id": "7768a2f4",
   "metadata": {
    "scrolled": true
   },
   "outputs": [
    {
     "name": "stdout",
     "output_type": "stream",
     "text": [
      "Perkenalkan saya Nadiska berasal dari bali, saya merupakan mahasiswa dari Universitas Udayana falkutas MIPA dan prodi matematika.\n"
     ]
    }
   ],
   "source": [
    "print(f'Perkenalkan saya {nama} berasal dari {asal}, saya merupakan {pekerjaan} dari {universitas} falkutas {falkutas} dan prodi {prodi}.')"
   ]
  },
  {
   "cell_type": "markdown",
   "id": "6263f6e2",
   "metadata": {},
   "source": [
    "5.5 Strings Index"
   ]
  },
  {
   "cell_type": "code",
   "execution_count": 22,
   "id": "feec65be",
   "metadata": {},
   "outputs": [],
   "source": [
    "judul = 'Cintamu yang Sia-Sia'"
   ]
  },
  {
   "cell_type": "code",
   "execution_count": 23,
   "id": "21d906f5",
   "metadata": {},
   "outputs": [
    {
     "name": "stdout",
     "output_type": "stream",
     "text": [
      "Cintamu ya\n"
     ]
    }
   ],
   "source": [
    "print(judul[0:10])"
   ]
  },
  {
   "cell_type": "code",
   "execution_count": 24,
   "id": "473cb94e",
   "metadata": {},
   "outputs": [
    {
     "name": "stdout",
     "output_type": "stream",
     "text": [
      "a\n"
     ]
    }
   ],
   "source": [
    "print(judul[19:21])"
   ]
  },
  {
   "cell_type": "code",
   "execution_count": 25,
   "id": "bceed4ac",
   "metadata": {},
   "outputs": [
    {
     "name": "stdout",
     "output_type": "stream",
     "text": [
      "Sia-\n"
     ]
    }
   ],
   "source": [
    "print(judul[13:17])"
   ]
  },
  {
   "cell_type": "code",
   "execution_count": 26,
   "id": "2ce73903",
   "metadata": {},
   "outputs": [
    {
     "name": "stdout",
     "output_type": "stream",
     "text": [
      "ia\n"
     ]
    }
   ],
   "source": [
    "print(judul[18:25])"
   ]
  },
  {
   "cell_type": "code",
   "execution_count": 27,
   "id": "e32f630c",
   "metadata": {},
   "outputs": [
    {
     "name": "stdout",
     "output_type": "stream",
     "text": [
      "Cintamu yang Sia-Sia\n"
     ]
    }
   ],
   "source": [
    "print(judul[:])"
   ]
  },
  {
   "cell_type": "markdown",
   "id": "6bed7fac",
   "metadata": {},
   "source": [
    "5.6 Strings Methods"
   ]
  },
  {
   "cell_type": "code",
   "execution_count": 28,
   "id": "66669dd9",
   "metadata": {},
   "outputs": [],
   "source": [
    "judul = 'Cinta Itu Sakit'"
   ]
  },
  {
   "cell_type": "code",
   "execution_count": 29,
   "id": "ba4732e6",
   "metadata": {},
   "outputs": [
    {
     "name": "stdout",
     "output_type": "stream",
     "text": [
      "15\n"
     ]
    }
   ],
   "source": [
    "print(len(judul))"
   ]
  },
  {
   "cell_type": "code",
   "execution_count": 30,
   "id": "76f342a8",
   "metadata": {},
   "outputs": [
    {
     "data": {
      "text/plain": [
       "'CINTA ITU SAKIT'"
      ]
     },
     "execution_count": 30,
     "metadata": {},
     "output_type": "execute_result"
    }
   ],
   "source": [
    "judul.upper()"
   ]
  },
  {
   "cell_type": "code",
   "execution_count": 31,
   "id": "1b68624d",
   "metadata": {},
   "outputs": [
    {
     "data": {
      "text/plain": [
       "'cinta itu sakit'"
      ]
     },
     "execution_count": 31,
     "metadata": {},
     "output_type": "execute_result"
    }
   ],
   "source": [
    "judul.lower()"
   ]
  },
  {
   "cell_type": "code",
   "execution_count": 32,
   "id": "5aa5ca82",
   "metadata": {},
   "outputs": [
    {
     "data": {
      "text/plain": [
       "-1"
      ]
     },
     "execution_count": 32,
     "metadata": {},
     "output_type": "execute_result"
    }
   ],
   "source": [
    "judul.find('cepat')"
   ]
  },
  {
   "cell_type": "code",
   "execution_count": 33,
   "id": "1c918349",
   "metadata": {},
   "outputs": [
    {
     "data": {
      "text/plain": [
       "10"
      ]
     },
     "execution_count": 33,
     "metadata": {},
     "output_type": "execute_result"
    }
   ],
   "source": [
    "judul.find(\"Sakit\")"
   ]
  },
  {
   "cell_type": "code",
   "execution_count": 34,
   "id": "a0627ac1",
   "metadata": {},
   "outputs": [
    {
     "data": {
      "text/plain": [
       "'Hati Itu Sakit'"
      ]
     },
     "execution_count": 34,
     "metadata": {},
     "output_type": "execute_result"
    }
   ],
   "source": [
    "judul.replace('Cinta', 'Hati')"
   ]
  },
  {
   "cell_type": "code",
   "execution_count": 35,
   "id": "297bdaa9",
   "metadata": {},
   "outputs": [
    {
     "name": "stdout",
     "output_type": "stream",
     "text": [
      "True\n"
     ]
    }
   ],
   "source": [
    "print('Itu' in judul)"
   ]
  },
  {
   "cell_type": "code",
   "execution_count": 36,
   "id": "095025e4",
   "metadata": {},
   "outputs": [
    {
     "name": "stdout",
     "output_type": "stream",
     "text": [
      "False\n"
     ]
    }
   ],
   "source": [
    "print(\"mati\" in judul)"
   ]
  },
  {
   "cell_type": "markdown",
   "id": "cae87e47",
   "metadata": {},
   "source": [
    "5.7 Operasi Matematika di Python"
   ]
  },
  {
   "cell_type": "code",
   "execution_count": 37,
   "id": "7f985553",
   "metadata": {},
   "outputs": [
    {
     "name": "stdout",
     "output_type": "stream",
     "text": [
      "10.5\n"
     ]
    }
   ],
   "source": [
    "print(7.5+3)"
   ]
  },
  {
   "cell_type": "code",
   "execution_count": 38,
   "id": "64e12c82",
   "metadata": {},
   "outputs": [
    {
     "name": "stdout",
     "output_type": "stream",
     "text": [
      "10\n"
     ]
    }
   ],
   "source": [
    "print(7+3)"
   ]
  },
  {
   "cell_type": "code",
   "execution_count": 39,
   "id": "42d2b70b",
   "metadata": {},
   "outputs": [
    {
     "name": "stdout",
     "output_type": "stream",
     "text": [
      "-2\n"
     ]
    }
   ],
   "source": [
    "print(5-7)"
   ]
  },
  {
   "cell_type": "code",
   "execution_count": 40,
   "id": "b9267949",
   "metadata": {},
   "outputs": [
    {
     "name": "stdout",
     "output_type": "stream",
     "text": [
      "70.0\n"
     ]
    }
   ],
   "source": [
    "print(3.5*20)"
   ]
  },
  {
   "cell_type": "code",
   "execution_count": 41,
   "id": "411e2cbd",
   "metadata": {},
   "outputs": [
    {
     "name": "stdout",
     "output_type": "stream",
     "text": [
      "6.666666666666667\n"
     ]
    }
   ],
   "source": [
    "print(20/3)"
   ]
  },
  {
   "cell_type": "code",
   "execution_count": 42,
   "id": "b8cd30c1",
   "metadata": {},
   "outputs": [
    {
     "name": "stdout",
     "output_type": "stream",
     "text": [
      "7\n"
     ]
    }
   ],
   "source": [
    "print(7%10)"
   ]
  },
  {
   "cell_type": "code",
   "execution_count": 43,
   "id": "e6fc6766",
   "metadata": {},
   "outputs": [
    {
     "name": "stdout",
     "output_type": "stream",
     "text": [
      "0.1111111111111111\n"
     ]
    }
   ],
   "source": [
    "print(3**-2)"
   ]
  },
  {
   "cell_type": "markdown",
   "id": "3eaa1e67",
   "metadata": {},
   "source": [
    "5.8 Operator Perbandingan di Python"
   ]
  },
  {
   "cell_type": "code",
   "execution_count": 44,
   "id": "6df91dfb",
   "metadata": {},
   "outputs": [
    {
     "name": "stdout",
     "output_type": "stream",
     "text": [
      "True\n"
     ]
    }
   ],
   "source": [
    "x = 5>1\n",
    "print(x)"
   ]
  },
  {
   "cell_type": "code",
   "execution_count": 45,
   "id": "5a44e013",
   "metadata": {},
   "outputs": [
    {
     "name": "stdout",
     "output_type": "stream",
     "text": [
      "False\n"
     ]
    }
   ],
   "source": [
    "x = 7<1\n",
    "print(x)"
   ]
  },
  {
   "cell_type": "code",
   "execution_count": 46,
   "id": "018250cf",
   "metadata": {},
   "outputs": [
    {
     "name": "stdout",
     "output_type": "stream",
     "text": [
      "True\n"
     ]
    }
   ],
   "source": [
    "x = 0 != 7\n",
    "print(x)"
   ]
  },
  {
   "cell_type": "code",
   "execution_count": 47,
   "id": "7a4f6f5f",
   "metadata": {},
   "outputs": [
    {
     "name": "stdout",
     "output_type": "stream",
     "text": [
      "True\n"
     ]
    }
   ],
   "source": [
    "x = 2 != 5\n",
    "print(x)"
   ]
  },
  {
   "cell_type": "code",
   "execution_count": 48,
   "id": "4ed67315",
   "metadata": {},
   "outputs": [
    {
     "name": "stdout",
     "output_type": "stream",
     "text": [
      "False\n"
     ]
    }
   ],
   "source": [
    "x = 1==3\n",
    "print(x)"
   ]
  },
  {
   "cell_type": "code",
   "execution_count": 49,
   "id": "827ef276",
   "metadata": {},
   "outputs": [
    {
     "name": "stdout",
     "output_type": "stream",
     "text": [
      "True\n"
     ]
    }
   ],
   "source": [
    "x = 5<10\n",
    "print(x)"
   ]
  },
  {
   "cell_type": "markdown",
   "id": "1466ab2f",
   "metadata": {},
   "source": [
    "5.9 Operator Logika di Python"
   ]
  },
  {
   "cell_type": "code",
   "execution_count": 50,
   "id": "b1557d0c",
   "metadata": {},
   "outputs": [
    {
     "name": "stdout",
     "output_type": "stream",
     "text": [
      "True\n"
     ]
    }
   ],
   "source": [
    "apel = 5\n",
    "pisang = 10\n",
    "print(apel > 1 and pisang < 11)"
   ]
  },
  {
   "cell_type": "code",
   "execution_count": 51,
   "id": "1858271c",
   "metadata": {},
   "outputs": [
    {
     "name": "stdout",
     "output_type": "stream",
     "text": [
      "True\n"
     ]
    }
   ],
   "source": [
    "print(apel > 4 and pisang > 7)"
   ]
  },
  {
   "cell_type": "code",
   "execution_count": 52,
   "id": "c99721b4",
   "metadata": {},
   "outputs": [
    {
     "name": "stdout",
     "output_type": "stream",
     "text": [
      "False\n"
     ]
    }
   ],
   "source": [
    "print(apel < 4 and pisang > 9)"
   ]
  },
  {
   "cell_type": "code",
   "execution_count": 53,
   "id": "169bf6e7",
   "metadata": {},
   "outputs": [
    {
     "name": "stdout",
     "output_type": "stream",
     "text": [
      "False\n"
     ]
    }
   ],
   "source": [
    "print(apel <2 and pisang > 5)"
   ]
  },
  {
   "cell_type": "markdown",
   "id": "72b26d96",
   "metadata": {},
   "source": [
    "5.10 Operator if di Python"
   ]
  },
  {
   "cell_type": "code",
   "execution_count": 54,
   "id": "5af8824d",
   "metadata": {},
   "outputs": [
    {
     "name": "stdout",
     "output_type": "stream",
     "text": [
      "Nilai Anda adalah 80\n",
      "Anda mendapatkan nilai A\n",
      "Selamat, nilai Anda sangat baik\n"
     ]
    }
   ],
   "source": [
    "nilai = float(input(\"Nilai Anda adalah \"))\n",
    "if nilai <= 80:\n",
    "    print(\"Anda mendapatkan nilai A\")\n",
    "    print(\"Selamat, nilai Anda sangat baik\")"
   ]
  },
  {
   "cell_type": "code",
   "execution_count": 55,
   "id": "1dd6162c",
   "metadata": {},
   "outputs": [
    {
     "name": "stdout",
     "output_type": "stream",
     "text": [
      "Nilai kuis Anda adalah 65\n",
      "Anda mendapatkan nilai B\n",
      "Nilai Anda cukup, bisa ditingkatkan lagi\n"
     ]
    }
   ],
   "source": [
    "nilai = float(input(\"Nilai kuis Anda adalah \"))\n",
    "if nilai >=65 and nilai <=75:\n",
    "    print(\"Anda mendapatkan nilai B\")\n",
    "    print(\"Nilai Anda cukup, bisa ditingkatkan lagi\")"
   ]
  },
  {
   "cell_type": "code",
   "execution_count": 56,
   "id": "f85b5180",
   "metadata": {},
   "outputs": [
    {
     "name": "stdout",
     "output_type": "stream",
     "text": [
      "Nilai ulangan Anda adalah 65\n",
      "Anda mendapatkan nilai B\n",
      "Nilai Anda kurang baik, mohon ditingkatkan\n"
     ]
    }
   ],
   "source": [
    "nilai = float(input(\"Nilai ulangan Anda adalah \"))\n",
    "if nilai <=65:\n",
    "    print(\"Anda mendapatkan nilai B\")\n",
    "    print(\"Nilai Anda kurang baik, mohon ditingkatkan\")"
   ]
  },
  {
   "cell_type": "code",
   "execution_count": 57,
   "id": "09c8cdfd",
   "metadata": {},
   "outputs": [
    {
     "name": "stdout",
     "output_type": "stream",
     "text": [
      "Berapakah berat badan Anda? 50\n",
      "Berat dalam kg atau g? kg\n"
     ]
    }
   ],
   "source": [
    "berat = float(input(\"Berapakah berat badan Anda? \"))\n",
    "kg_atau_g = input(\"Berat dalam kg atau g? \")"
   ]
  },
  {
   "cell_type": "code",
   "execution_count": 58,
   "id": "4c1edc05",
   "metadata": {},
   "outputs": [
    {
     "name": "stdout",
     "output_type": "stream",
     "text": [
      "Berapakah berat badan Anda? 50\n",
      "Berat dalam kg atau g? kg\n",
      "Berat Anda adalah 50000.0g.\n"
     ]
    }
   ],
   "source": [
    "berat = float(input('Berapakah berat badan Anda? '))\n",
    "kg_atau_g = input('Berat dalam kg atau g? ')\n",
    "if kg_atau_g.upper() == 'KG':\n",
    "    berat = berat*1000\n",
    "    print(\"Berat Anda adalah \" + str(berat) + \"g.\")\n",
    "elif kg_atau_g.upper() == 'G':\n",
    "    berat = berat/1000\n",
    "    print(\"Berat Anda adalah \" + str(berat) + \"kg.\")"
   ]
  },
  {
   "cell_type": "markdown",
   "id": "5dae850d",
   "metadata": {},
   "source": [
    "5.11 While loop"
   ]
  },
  {
   "cell_type": "code",
   "execution_count": 59,
   "id": "1af94cb5",
   "metadata": {},
   "outputs": [
    {
     "name": "stdout",
     "output_type": "stream",
     "text": [
      "Angka 0 masih dibawah 4\n",
      "Angka 1 masih dibawah 4\n",
      "Angka 2 masih dibawah 4\n",
      "Angka 3 masih dibawah 4\n"
     ]
    }
   ],
   "source": [
    "a = 0\n",
    "while a < 4:\n",
    "    print(\"Angka \" + str(a)+\" masih dibawah 4\")\n",
    "    a += 1"
   ]
  },
  {
   "cell_type": "code",
   "execution_count": 60,
   "id": "c8aef81f",
   "metadata": {},
   "outputs": [
    {
     "name": "stdout",
     "output_type": "stream",
     "text": [
      "Angka 0 masih dibawah 10\n",
      "Angka 2 masih dibawah 10\n",
      "Angka 4 masih dibawah 10\n",
      "Angka 6 masih dibawah 10\n",
      "Angka 8 masih dibawah 10\n"
     ]
    }
   ],
   "source": [
    "a = 0\n",
    "while a < 10:\n",
    "    print(\"Angka \" + str(a)+\" masih dibawah 10\")\n",
    "    a += 2"
   ]
  },
  {
   "cell_type": "code",
   "execution_count": 61,
   "id": "a5651a9d",
   "metadata": {},
   "outputs": [
    {
     "name": "stdout",
     "output_type": "stream",
     "text": [
      "o\n",
      "oo\n",
      "ooo\n"
     ]
    }
   ],
   "source": [
    "a = 1\n",
    "while a < 4:\n",
    "    print(a* \"o\")\n",
    "    a += 1"
   ]
  },
  {
   "cell_type": "code",
   "execution_count": null,
   "id": "aae50809",
   "metadata": {},
   "outputs": [],
   "source": []
  }
 ],
 "metadata": {
  "kernelspec": {
   "display_name": "Python 3 (ipykernel)",
   "language": "python",
   "name": "python3"
  },
  "language_info": {
   "codemirror_mode": {
    "name": "ipython",
    "version": 3
   },
   "file_extension": ".py",
   "mimetype": "text/x-python",
   "name": "python",
   "nbconvert_exporter": "python",
   "pygments_lexer": "ipython3",
   "version": "3.9.7"
  }
 },
 "nbformat": 4,
 "nbformat_minor": 5
}
