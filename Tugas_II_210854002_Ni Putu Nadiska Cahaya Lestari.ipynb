{
 "cells": [
  {
   "cell_type": "markdown",
   "id": "b784efda",
   "metadata": {},
   "source": [
    "5.12 List di Python"
   ]
  },
  {
   "cell_type": "code",
   "execution_count": 1,
   "id": "86caaf01",
   "metadata": {},
   "outputs": [
    {
     "name": "stdout",
     "output_type": "stream",
     "text": [
      "['gelang', 'gelas', 'mangkok', 'tas']\n"
     ]
    }
   ],
   "source": [
    "benda = ['gelang', 'gelas', 'mangkok', 'tas']\n",
    "print(benda)"
   ]
  },
  {
   "cell_type": "code",
   "execution_count": 2,
   "id": "52f9a58a",
   "metadata": {},
   "outputs": [
    {
     "name": "stdout",
     "output_type": "stream",
     "text": [
      "gelas\n"
     ]
    }
   ],
   "source": [
    "print(benda[1])"
   ]
  },
  {
   "cell_type": "code",
   "execution_count": 3,
   "id": "698de986",
   "metadata": {},
   "outputs": [
    {
     "name": "stdout",
     "output_type": "stream",
     "text": [
      "tas\n"
     ]
    }
   ],
   "source": [
    "print(benda[3])"
   ]
  },
  {
   "cell_type": "code",
   "execution_count": 4,
   "id": "f3d8f078",
   "metadata": {},
   "outputs": [
    {
     "name": "stdout",
     "output_type": "stream",
     "text": [
      "['gelang', 'gelas', 'penggaris', 'tas']\n"
     ]
    }
   ],
   "source": [
    "benda [2] = 'penggaris'\n",
    "print(benda)"
   ]
  },
  {
   "cell_type": "code",
   "execution_count": 5,
   "id": "16d2d33b",
   "metadata": {},
   "outputs": [
    {
     "name": "stdout",
     "output_type": "stream",
     "text": [
      "['penggaris']\n"
     ]
    }
   ],
   "source": [
    "print(benda[2:-1])"
   ]
  },
  {
   "cell_type": "code",
   "execution_count": 6,
   "id": "86095564",
   "metadata": {},
   "outputs": [
    {
     "name": "stdout",
     "output_type": "stream",
     "text": [
      "['gelas']\n"
     ]
    }
   ],
   "source": [
    "print(benda[1:2])"
   ]
  },
  {
   "cell_type": "markdown",
   "id": "a391791e",
   "metadata": {},
   "source": [
    "5.13 Metode List"
   ]
  },
  {
   "cell_type": "code",
   "execution_count": 7,
   "id": "def4e9d2",
   "metadata": {},
   "outputs": [
    {
     "name": "stdout",
     "output_type": "stream",
     "text": [
      "['Kalimatan Utara', 'Jawa Timur', 'Sumatra Barat', 'Aceh', 'Bali']\n"
     ]
    }
   ],
   "source": [
    "provinsi = ['Kalimatan Utara', 'Jawa Timur', 'Sumatra Barat', 'Aceh']\n",
    "provinsi.append('Bali')\n",
    "print(provinsi)"
   ]
  },
  {
   "cell_type": "code",
   "execution_count": 8,
   "id": "6e3abc71",
   "metadata": {},
   "outputs": [
    {
     "name": "stdout",
     "output_type": "stream",
     "text": [
      "['Kalimatan Utara', 'Jawa Timur', 'Jawa Timur', 'Sumatra Barat', 'Aceh', 'Bali']\n"
     ]
    }
   ],
   "source": [
    "provinsi.insert(2,'Jawa Timur')\n",
    "print(provinsi)"
   ]
  },
  {
   "cell_type": "code",
   "execution_count": 9,
   "id": "c841c0ee",
   "metadata": {},
   "outputs": [
    {
     "name": "stdout",
     "output_type": "stream",
     "text": [
      "['Kalimatan Utara', 'Jawa Timur', 'Jawa Timur', 'Sumatra Barat', 'Bali']\n"
     ]
    }
   ],
   "source": [
    "provinsi.remove('Aceh')\n",
    "print(provinsi)"
   ]
  },
  {
   "cell_type": "code",
   "execution_count": 10,
   "id": "add034b6",
   "metadata": {},
   "outputs": [
    {
     "name": "stdout",
     "output_type": "stream",
     "text": [
      "False\n"
     ]
    }
   ],
   "source": [
    "print('Aceh' in provinsi)"
   ]
  },
  {
   "cell_type": "code",
   "execution_count": 11,
   "id": "0fe1719c",
   "metadata": {},
   "outputs": [
    {
     "name": "stdout",
     "output_type": "stream",
     "text": [
      "True\n"
     ]
    }
   ],
   "source": [
    "print('Jawa Timur' in provinsi)"
   ]
  },
  {
   "cell_type": "code",
   "execution_count": 12,
   "id": "60d84de8",
   "metadata": {},
   "outputs": [
    {
     "name": "stdout",
     "output_type": "stream",
     "text": [
      "5\n"
     ]
    }
   ],
   "source": [
    "print(len(provinsi))"
   ]
  },
  {
   "cell_type": "markdown",
   "id": "34894fc5",
   "metadata": {},
   "source": [
    "5.14 For Loop"
   ]
  },
  {
   "cell_type": "code",
   "execution_count": 13,
   "id": "734b5321",
   "metadata": {},
   "outputs": [
    {
     "name": "stdout",
     "output_type": "stream",
     "text": [
      "Anjing\n",
      "Kucing\n",
      "Ikan\n",
      "katak\n",
      "Cacing\n"
     ]
    }
   ],
   "source": [
    "hewan = [\"Anjing\", \"Kucing\", \"Ikan\", \"katak\", \"Cacing\"]\n",
    "for jenis in hewan:\n",
    "    print(jenis)"
   ]
  },
  {
   "cell_type": "code",
   "execution_count": 14,
   "id": "434ba230",
   "metadata": {},
   "outputs": [
    {
     "name": "stdout",
     "output_type": "stream",
     "text": [
      "Anjing\n",
      "Kucing\n",
      "Ikan\n",
      "katak\n",
      "Cacing\n"
     ]
    }
   ],
   "source": [
    "a=0\n",
    "while a<len(hewan):\n",
    "    print(hewan[a])\n",
    "    a+=1"
   ]
  },
  {
   "cell_type": "code",
   "execution_count": 15,
   "id": "ee4c4c2a",
   "metadata": {},
   "outputs": [
    {
     "name": "stdout",
     "output_type": "stream",
     "text": [
      "Anjing\n",
      "Ikan\n",
      "Cacing\n"
     ]
    }
   ],
   "source": [
    "a=0\n",
    "while a<len(hewan):\n",
    "    print(hewan[a])\n",
    "    a+=2"
   ]
  },
  {
   "cell_type": "markdown",
   "id": "7a92f966",
   "metadata": {},
   "source": [
    "5.15 Fungsi Range"
   ]
  },
  {
   "cell_type": "code",
   "execution_count": 16,
   "id": "05bee5e2",
   "metadata": {},
   "outputs": [
    {
     "name": "stdout",
     "output_type": "stream",
     "text": [
      "range(0, 20)\n"
     ]
    }
   ],
   "source": [
    "angka=range(20)\n",
    "print(angka)"
   ]
  },
  {
   "cell_type": "code",
   "execution_count": 17,
   "id": "75547187",
   "metadata": {},
   "outputs": [
    {
     "name": "stdout",
     "output_type": "stream",
     "text": [
      "0\n",
      "1\n",
      "2\n",
      "3\n",
      "4\n",
      "5\n",
      "6\n",
      "7\n",
      "8\n",
      "9\n",
      "10\n",
      "11\n",
      "12\n",
      "13\n",
      "14\n",
      "15\n",
      "16\n",
      "17\n",
      "18\n",
      "19\n"
     ]
    }
   ],
   "source": [
    "for isi in angka:\n",
    "    print(isi)"
   ]
  },
  {
   "cell_type": "code",
   "execution_count": 18,
   "id": "77b8f0ea",
   "metadata": {},
   "outputs": [
    {
     "name": "stdout",
     "output_type": "stream",
     "text": [
      "2\n"
     ]
    }
   ],
   "source": [
    "for isi in range(2,12,24):\n",
    "    print(isi)"
   ]
  },
  {
   "cell_type": "code",
   "execution_count": 19,
   "id": "47b624d0",
   "metadata": {},
   "outputs": [
    {
     "name": "stdout",
     "output_type": "stream",
     "text": [
      "-7\n",
      "-6\n",
      "-5\n",
      "-4\n",
      "-3\n",
      "-2\n",
      "-1\n",
      "0\n",
      "1\n"
     ]
    }
   ],
   "source": [
    "for isi in range(-7,2):\n",
    "    print(isi)"
   ]
  },
  {
   "cell_type": "code",
   "execution_count": 20,
   "id": "ee07f30d",
   "metadata": {},
   "outputs": [
    {
     "name": "stdout",
     "output_type": "stream",
     "text": [
      "12\n"
     ]
    }
   ],
   "source": [
    "data = [3,6,9,12,9,6,3]\n",
    "terbesar = data[0]\n",
    "for i in range(len(data)):\n",
    "    if data[i] > terbesar:\n",
    "        terbesar = data[i]\n",
    "print(terbesar)"
   ]
  },
  {
   "cell_type": "code",
   "execution_count": 21,
   "id": "a2451a33",
   "metadata": {},
   "outputs": [
    {
     "name": "stdout",
     "output_type": "stream",
     "text": [
      "12\n"
     ]
    }
   ],
   "source": [
    "data = [3,6,9,12,9,6,3]\n",
    "terbesar = data[0]\n",
    "for angka in data:\n",
    "    if angka > terbesar:\n",
    "        terbesar = angka\n",
    "print(terbesar)"
   ]
  },
  {
   "cell_type": "code",
   "execution_count": 22,
   "id": "cd38447e",
   "metadata": {},
   "outputs": [
    {
     "name": "stdout",
     "output_type": "stream",
     "text": [
      "[3, 5, 1, 4, 7, 8, 2, 6, 9, 10, 19, 23]\n"
     ]
    }
   ],
   "source": [
    "angka = [3,5,1,3,4,7,8,1,2,3,1,6,9,10,19,23]\n",
    "angka_unik = []\n",
    "for anggota in angka:\n",
    "    if anggota not in angka_unik:\n",
    "        angka_unik.append(anggota)\n",
    "print(angka_unik)"
   ]
  },
  {
   "cell_type": "markdown",
   "id": "24253bf9",
   "metadata": {},
   "source": [
    "5.16 List 2 Dimensi"
   ]
  },
  {
   "cell_type": "code",
   "execution_count": 23,
   "id": "cd383663",
   "metadata": {},
   "outputs": [
    {
     "name": "stdout",
     "output_type": "stream",
     "text": [
      "[[2, 4, 6, 8], [1, 3, 5, 7], [10, 15, 20, 25]]\n"
     ]
    }
   ],
   "source": [
    "matrik = [\n",
    "    [2,4,6,8],\n",
    "    [1,3,5,7],\n",
    "    [10,15,20,25]\n",
    "]\n",
    "print(matrik)"
   ]
  },
  {
   "cell_type": "code",
   "execution_count": 24,
   "id": "7f11b530",
   "metadata": {},
   "outputs": [
    {
     "data": {
      "text/plain": [
       "25"
      ]
     },
     "execution_count": 24,
     "metadata": {},
     "output_type": "execute_result"
    }
   ],
   "source": [
    "matrik[2][3]"
   ]
  },
  {
   "cell_type": "code",
   "execution_count": 25,
   "id": "fcc962f8",
   "metadata": {},
   "outputs": [
    {
     "data": {
      "text/plain": [
       "[1, 3, 5, 7]"
      ]
     },
     "execution_count": 25,
     "metadata": {},
     "output_type": "execute_result"
    }
   ],
   "source": [
    "matrik[1]"
   ]
  },
  {
   "cell_type": "code",
   "execution_count": 26,
   "id": "1da2eecc",
   "metadata": {},
   "outputs": [
    {
     "data": {
      "text/plain": [
       "4"
      ]
     },
     "execution_count": 26,
     "metadata": {},
     "output_type": "execute_result"
    }
   ],
   "source": [
    "matrik[0][1]"
   ]
  },
  {
   "cell_type": "code",
   "execution_count": 27,
   "id": "832cdbec",
   "metadata": {},
   "outputs": [
    {
     "name": "stdout",
     "output_type": "stream",
     "text": [
      "25\n"
     ]
    }
   ],
   "source": [
    "matrik[0][1]=25\n",
    "print(matrik[0][1])"
   ]
  },
  {
   "cell_type": "code",
   "execution_count": 28,
   "id": "ebe99faa",
   "metadata": {},
   "outputs": [
    {
     "data": {
      "text/plain": [
       "[[2, 25, 6, 8], [1, 3, 5, 7], [10, 15, 20, 25]]"
      ]
     },
     "execution_count": 28,
     "metadata": {},
     "output_type": "execute_result"
    }
   ],
   "source": [
    "matrik"
   ]
  },
  {
   "cell_type": "code",
   "execution_count": 29,
   "id": "73c5c1b5",
   "metadata": {},
   "outputs": [
    {
     "name": "stdout",
     "output_type": "stream",
     "text": [
      "[2, 25, 6, 8]\n",
      "2\n",
      "25\n",
      "6\n",
      "8\n",
      "[1, 3, 5, 7]\n",
      "1\n",
      "3\n",
      "5\n",
      "7\n",
      "[10, 15, 20, 25]\n",
      "10\n",
      "15\n",
      "20\n",
      "25\n"
     ]
    }
   ],
   "source": [
    "for baris in matrik:\n",
    "    print(baris)\n",
    "    for kolom in baris:\n",
    "        print(kolom)"
   ]
  },
  {
   "cell_type": "markdown",
   "id": "fdd9d4c2",
   "metadata": {},
   "source": [
    "5.17 Tuples"
   ]
  },
  {
   "cell_type": "code",
   "execution_count": 30,
   "id": "0e0e90d3",
   "metadata": {},
   "outputs": [
    {
     "name": "stdout",
     "output_type": "stream",
     "text": [
      "(1, 2, 3, 4, 5)\n"
     ]
    }
   ],
   "source": [
    "angka = (1,2,3,4,5)\n",
    "print(angka)"
   ]
  },
  {
   "cell_type": "code",
   "execution_count": 31,
   "id": "42e58adf",
   "metadata": {},
   "outputs": [
    {
     "name": "stdout",
     "output_type": "stream",
     "text": [
      "2\n"
     ]
    }
   ],
   "source": [
    "print(angka[1])"
   ]
  },
  {
   "cell_type": "code",
   "execution_count": 32,
   "id": "47f65550",
   "metadata": {},
   "outputs": [
    {
     "name": "stdout",
     "output_type": "stream",
     "text": [
      "(2, 3, 4, 5)\n"
     ]
    }
   ],
   "source": [
    "print(angka[1:5])"
   ]
  },
  {
   "cell_type": "code",
   "execution_count": 33,
   "id": "2f25e627",
   "metadata": {},
   "outputs": [
    {
     "ename": "AttributeError",
     "evalue": "'tuple' object has no attribute 'append'",
     "output_type": "error",
     "traceback": [
      "\u001b[1;31m---------------------------------------------------------------------------\u001b[0m",
      "\u001b[1;31mAttributeError\u001b[0m                            Traceback (most recent call last)",
      "\u001b[1;32m~\\AppData\\Local\\Temp/ipykernel_5264/1486253856.py\u001b[0m in \u001b[0;36m<module>\u001b[1;34m\u001b[0m\n\u001b[1;32m----> 1\u001b[1;33m \u001b[0mangka\u001b[0m\u001b[1;33m.\u001b[0m\u001b[0mappend\u001b[0m\u001b[1;33m(\u001b[0m\u001b[1;36m3\u001b[0m\u001b[1;33m)\u001b[0m\u001b[1;33m\u001b[0m\u001b[1;33m\u001b[0m\u001b[0m\n\u001b[0m\u001b[0;32m      2\u001b[0m \u001b[0mprint\u001b[0m\u001b[1;33m(\u001b[0m\u001b[0mangka\u001b[0m\u001b[1;33m)\u001b[0m\u001b[1;33m\u001b[0m\u001b[1;33m\u001b[0m\u001b[0m\n",
      "\u001b[1;31mAttributeError\u001b[0m: 'tuple' object has no attribute 'append'"
     ]
    }
   ],
   "source": [
    "angka.append(3)\n",
    "print(angka)"
   ]
  },
  {
   "cell_type": "code",
   "execution_count": 34,
   "id": "c337c8ed",
   "metadata": {},
   "outputs": [
    {
     "ename": "AttributeError",
     "evalue": "'tuple' object has no attribute 'remove'",
     "output_type": "error",
     "traceback": [
      "\u001b[1;31m---------------------------------------------------------------------------\u001b[0m",
      "\u001b[1;31mAttributeError\u001b[0m                            Traceback (most recent call last)",
      "\u001b[1;32m~\\AppData\\Local\\Temp/ipykernel_5264/3210072151.py\u001b[0m in \u001b[0;36m<module>\u001b[1;34m\u001b[0m\n\u001b[1;32m----> 1\u001b[1;33m \u001b[0mangka\u001b[0m\u001b[1;33m.\u001b[0m\u001b[0mremove\u001b[0m\u001b[1;33m(\u001b[0m\u001b[1;36m4\u001b[0m\u001b[1;33m)\u001b[0m\u001b[1;33m\u001b[0m\u001b[1;33m\u001b[0m\u001b[0m\n\u001b[0m\u001b[0;32m      2\u001b[0m \u001b[0mprint\u001b[0m\u001b[1;33m(\u001b[0m\u001b[0mangka\u001b[0m\u001b[1;33m)\u001b[0m\u001b[1;33m\u001b[0m\u001b[1;33m\u001b[0m\u001b[0m\n",
      "\u001b[1;31mAttributeError\u001b[0m: 'tuple' object has no attribute 'remove'"
     ]
    }
   ],
   "source": [
    "angka.remove(4)\n",
    "print(angka)"
   ]
  },
  {
   "cell_type": "code",
   "execution_count": 35,
   "id": "ff0b7fe6",
   "metadata": {},
   "outputs": [
    {
     "data": {
      "text/plain": [
       "1"
      ]
     },
     "execution_count": 35,
     "metadata": {},
     "output_type": "execute_result"
    }
   ],
   "source": [
    "angka.count(5)"
   ]
  },
  {
   "cell_type": "code",
   "execution_count": 36,
   "id": "9d12453c",
   "metadata": {},
   "outputs": [
    {
     "data": {
      "text/plain": [
       "1"
      ]
     },
     "execution_count": 36,
     "metadata": {},
     "output_type": "execute_result"
    }
   ],
   "source": [
    "angka.index(2)"
   ]
  },
  {
   "cell_type": "markdown",
   "id": "90ebbeb7",
   "metadata": {},
   "source": [
    "5.18 Dictionaries"
   ]
  },
  {
   "cell_type": "code",
   "execution_count": 37,
   "id": "cbc01a00",
   "metadata": {},
   "outputs": [],
   "source": [
    "data_orang = {\n",
    "    \"nama\" : \"Ersta Adil\",\n",
    "    \"umur\" : 19,\n",
    "    \"apakah_single\" : True\n",
    "}"
   ]
  },
  {
   "cell_type": "code",
   "execution_count": 38,
   "id": "85e5ef08",
   "metadata": {},
   "outputs": [
    {
     "name": "stdout",
     "output_type": "stream",
     "text": [
      "Ersta Adil\n"
     ]
    }
   ],
   "source": [
    "print(data_orang[\"nama\"])"
   ]
  },
  {
   "cell_type": "code",
   "execution_count": 39,
   "id": "69ca7600",
   "metadata": {},
   "outputs": [
    {
     "ename": "NameError",
     "evalue": "name 'Nama' is not defined",
     "output_type": "error",
     "traceback": [
      "\u001b[1;31m---------------------------------------------------------------------------\u001b[0m",
      "\u001b[1;31mNameError\u001b[0m                                 Traceback (most recent call last)",
      "\u001b[1;32m~\\AppData\\Local\\Temp/ipykernel_5264/706381062.py\u001b[0m in \u001b[0;36m<module>\u001b[1;34m\u001b[0m\n\u001b[1;32m----> 1\u001b[1;33m \u001b[0mprint\u001b[0m\u001b[1;33m(\u001b[0m\u001b[0mdata_orang\u001b[0m\u001b[1;33m[\u001b[0m\u001b[0mNama\u001b[0m\u001b[1;33m]\u001b[0m\u001b[1;33m)\u001b[0m\u001b[1;33m\u001b[0m\u001b[1;33m\u001b[0m\u001b[0m\n\u001b[0m",
      "\u001b[1;31mNameError\u001b[0m: name 'Nama' is not defined"
     ]
    }
   ],
   "source": [
    "print(data_orang[Nama])"
   ]
  },
  {
   "cell_type": "code",
   "execution_count": 40,
   "id": "e379dcb5",
   "metadata": {},
   "outputs": [
    {
     "name": "stdout",
     "output_type": "stream",
     "text": [
      "Ersta Adil\n"
     ]
    }
   ],
   "source": [
    "print(data_orang.get(\"nama\"))"
   ]
  },
  {
   "cell_type": "code",
   "execution_count": 41,
   "id": "6aa573ac",
   "metadata": {},
   "outputs": [
    {
     "name": "stdout",
     "output_type": "stream",
     "text": [
      "None\n"
     ]
    }
   ],
   "source": [
    "print(data_orang.get(\"Nama\"))"
   ]
  },
  {
   "cell_type": "code",
   "execution_count": 42,
   "id": "972d9b84",
   "metadata": {},
   "outputs": [
    {
     "name": "stdout",
     "output_type": "stream",
     "text": [
      "None\n"
     ]
    }
   ],
   "source": [
    "print(data_orang.get(\"tempat_lahir\"))"
   ]
  },
  {
   "cell_type": "code",
   "execution_count": 43,
   "id": "d4eade95",
   "metadata": {},
   "outputs": [
    {
     "name": "stdout",
     "output_type": "stream",
     "text": [
      "Denpasar\n"
     ]
    }
   ],
   "source": [
    "print(data_orang.get(\"tempat_lahir\", \"Denpasar\"))"
   ]
  },
  {
   "cell_type": "code",
   "execution_count": 44,
   "id": "3efff18c",
   "metadata": {},
   "outputs": [],
   "source": [
    "data_orang['nomor_HP'] = '087865369444'"
   ]
  },
  {
   "cell_type": "code",
   "execution_count": 45,
   "id": "7ce655f4",
   "metadata": {},
   "outputs": [
    {
     "name": "stdout",
     "output_type": "stream",
     "text": [
      "087865369444\n"
     ]
    }
   ],
   "source": [
    "print(data_orang['nomor_HP'])"
   ]
  },
  {
   "cell_type": "code",
   "execution_count": 46,
   "id": "d4f02572",
   "metadata": {},
   "outputs": [],
   "source": [
    "angka= {\n",
    "    \"0\" : \"nol\",\n",
    "    \"1\" : \"satu\",\n",
    "    \"2\" : \"dua\",\n",
    "    \"3\" : \"tiga\",\n",
    "    \"4\" : \"empat\",\n",
    "    \"5\" : \"lima\",\n",
    "    \"6\" : \"enam\",\n",
    "    \"7\" : \"tujuh\",\n",
    "    \"8\" : \"delapan\",\n",
    "    \"9\" : \"sembilan\"\n",
    "}"
   ]
  },
  {
   "cell_type": "code",
   "execution_count": 47,
   "id": "8df4bbd2",
   "metadata": {},
   "outputs": [
    {
     "name": "stdout",
     "output_type": "stream",
     "text": [
      "Masukkan nomor HP Anda 082341959976\n",
      "nol delapan dua tiga empat satu sembilan lima sembilan sembilan tujuh enam \n"
     ]
    }
   ],
   "source": [
    "angka= {\n",
    "    \"0\" : \"nol\",\n",
    "    \"1\" : \"satu\",\n",
    "    \"2\" : \"dua\",\n",
    "    \"3\" : \"tiga\",\n",
    "    \"4\" : \"empat\",\n",
    "    \"5\" : \"lima\",\n",
    "    \"6\" : \"enam\",\n",
    "    \"7\" : \"tujuh\",\n",
    "    \"8\" : \"delapan\",\n",
    "    \"9\" : \"sembilan\"\n",
    "}\n",
    "nomor_HP = input(\"Masukkan nomor HP Anda \")\n",
    "nomor_angka = \"\"\n",
    "for isi in nomor_HP:\n",
    "    nomor_angka += angka.get(isi) + \" \"\n",
    "print(nomor_angka)"
   ]
  },
  {
   "cell_type": "markdown",
   "id": "66f979f7",
   "metadata": {},
   "source": [
    "5.19 Fungsi dalam Python"
   ]
  },
  {
   "cell_type": "code",
   "execution_count": 49,
   "id": "fa507eca",
   "metadata": {},
   "outputs": [],
   "source": [
    "def full_name(nama_depan,nama_tengah,nama_belakang):\n",
    "    print(f\"Nama lengkapnya adalah {nama_depan} {nama_tengah} {nama_belakang}\")"
   ]
  },
  {
   "cell_type": "code",
   "execution_count": 50,
   "id": "930a4719",
   "metadata": {},
   "outputs": [
    {
     "name": "stdout",
     "output_type": "stream",
     "text": [
      "Nama depannya adalah Putu\n",
      "Nama tengahnya adalah Nadiska\n",
      "Nama belakangnya adalah Cahaya\n",
      "Nama lengkapnya adalah Putu Nadiska Cahaya\n"
     ]
    }
   ],
   "source": [
    "nama_depan = input(\"Nama depannya adalah \")\n",
    "nama_tengah = input(\"Nama tengahnya adalah \")\n",
    "nama_belakang = input(\"Nama belakangnya adalah \")\n",
    "full_name(nama_depan,nama_tengah,nama_belakang)"
   ]
  },
  {
   "cell_type": "markdown",
   "id": "9f5530de",
   "metadata": {},
   "source": [
    "5.19.1 Tugas Fungsi pada Python"
   ]
  },
  {
   "cell_type": "code",
   "execution_count": 51,
   "id": "895ff2b7",
   "metadata": {},
   "outputs": [],
   "source": [
    "def waktu_sampai(jarak,kecepatan):\n",
    "    waktu = jarak/kecepatan\n",
    "    print(waktu)"
   ]
  },
  {
   "cell_type": "code",
   "execution_count": 55,
   "id": "352c1126",
   "metadata": {},
   "outputs": [],
   "source": [
    "def waktu_sampai(jarak,kecepatan):\n",
    "    waktu = jarak/kecepatan\n",
    "    return waktu"
   ]
  },
  {
   "cell_type": "code",
   "execution_count": 56,
   "id": "c148d2fe",
   "metadata": {},
   "outputs": [
    {
     "data": {
      "text/plain": [
       "2.0"
      ]
     },
     "execution_count": 56,
     "metadata": {},
     "output_type": "execute_result"
    }
   ],
   "source": [
    "waktu_sampai(50,25)"
   ]
  },
  {
   "cell_type": "code",
   "execution_count": 58,
   "id": "22297570",
   "metadata": {},
   "outputs": [
    {
     "ename": "NameError",
     "evalue": "name 'waktu_tempuh' is not defined",
     "output_type": "error",
     "traceback": [
      "\u001b[1;31m---------------------------------------------------------------------------\u001b[0m",
      "\u001b[1;31mNameError\u001b[0m                                 Traceback (most recent call last)",
      "\u001b[1;32m~\\AppData\\Local\\Temp/ipykernel_5264/2311825004.py\u001b[0m in \u001b[0;36m<module>\u001b[1;34m\u001b[0m\n\u001b[1;32m----> 1\u001b[1;33m \u001b[0mwaktu_tempuh\u001b[0m\u001b[1;33m(\u001b[0m\u001b[1;36m50\u001b[0m\u001b[1;33m,\u001b[0m\u001b[1;36m25\u001b[0m\u001b[1;33m)\u001b[0m\u001b[1;33m\u001b[0m\u001b[1;33m\u001b[0m\u001b[0m\n\u001b[0m",
      "\u001b[1;31mNameError\u001b[0m: name 'waktu_tempuh' is not defined"
     ]
    }
   ],
   "source": [
    "waktu_tempuh(50,25)"
   ]
  },
  {
   "cell_type": "code",
   "execution_count": 59,
   "id": "d63d7287",
   "metadata": {},
   "outputs": [
    {
     "name": "stdout",
     "output_type": "stream",
     "text": [
      "2.0\n"
     ]
    }
   ],
   "source": [
    "a = waktu_sampai(50,25)\n",
    "print(a)"
   ]
  },
  {
   "cell_type": "code",
   "execution_count": 60,
   "id": "6644bad0",
   "metadata": {},
   "outputs": [
    {
     "name": "stdout",
     "output_type": "stream",
     "text": [
      "2.0\n"
     ]
    }
   ],
   "source": [
    "b = waktu_sampai(50,25)\n",
    "print(b)"
   ]
  },
  {
   "cell_type": "code",
   "execution_count": 61,
   "id": "bbe9e3db",
   "metadata": {},
   "outputs": [],
   "source": [
    "import numpy as np"
   ]
  },
  {
   "cell_type": "code",
   "execution_count": 63,
   "id": "52e1ea3d",
   "metadata": {},
   "outputs": [],
   "source": [
    "def luas_segitiga(alas,tinggi):\n",
    "    luas = (1/2)*luas*tinggi\n",
    "    return luas\n",
    "def luas_lingkaran(jari_jari):\n",
    "    luas = np.pi*(jari-jari**2)\n",
    "    return luas\n",
    "def luas_persegi(sisi):\n",
    "    luas = sisi**2\n",
    "    return luas\n",
    "def luas_persegi_panjang(panjang,lebar):\n",
    "    luas = panjang*lebar\n",
    "    return luas\n",
    "def luas_persegi_siku_siku(alas,tinggi):\n",
    "    luas = (1/2)*alas*tinggi\n",
    "    return luas"
   ]
  },
  {
   "cell_type": "code",
   "execution_count": 71,
   "id": "b706cf76",
   "metadata": {},
   "outputs": [
    {
     "name": "stdout",
     "output_type": "stream",
     "text": [
      "Tulisan jenis bidangnya 13\n",
      "Maaf bidang 13 yang Anda masukkan tidak ada.\n",
      "Pilihan cuma SEGITIGA, LINGKARAN, PERSEGI, PESERGI PANJANG, dan TRAPESIUM SIKU-SIKU.\n",
      "Terimakasih\n"
     ]
    }
   ],
   "source": [
    "jenis_bidang = input(\"Tulisan jenis bidangnya \")\n",
    "if jenis_bidang.upper() == 'SEGITIGA':\n",
    "    alas = float(input('Berapakah panjng alasnya? '))\n",
    "    tinggi = float(input('Berapakah panjang tinggi? '))\n",
    "    print(f'luas{jenis_bidang} adalah {luas}')\n",
    "elif jenis_bidang.upper () == 'LINGKARAN':\n",
    "    jari_jari = float(input('Berapakah jari_jarinya? '))\n",
    "    luas = luas_lingkaran(jari_jari)\n",
    "    print(f'luas{jenis_bidang} adalah {luas}')\n",
    "elif jenis_bidang.upper () == 'PERSEGI':\n",
    "    sisi = float(input('Berapakah panjang sisinya? '))\n",
    "    luas = luas_pesergi(sisi)\n",
    "    print(f'luas{jenis_bidang} adalah {luas}')\n",
    "elif jenis_bidang.upper () == 'PERSEGI PANJANG':\n",
    "    panjang = float(input('Berapakah panjangnya? '))\n",
    "    lebar = float(input('Berapakah lebarnya? '))\n",
    "    luas = luas_persegi_panjang(panjang,lebar)\n",
    "    print(f'luas{jenis_bidang} adalah {luas}')\n",
    "elif jenis_bidang.upper () == 'TRAPESIUM SIKU-SIKU':\n",
    "    alas = float(input('Berapakah alasnya? '))\n",
    "    tinggi = float(input('Berapakah tingginya? '))\n",
    "    luas = luas_trapesium_siku_siku(alas,tinggi)\n",
    "    print(f'luas{jenis_bidang} adalah {luas}')\n",
    "else:\n",
    "    print(f'Maaf bidang {jenis_bidang} yang Anda masukkan tidak ada.')\n",
    "    print(f'Pilihan cuma SEGITIGA, LINGKARAN, PERSEGI, PESERGI PANJANG, dan TRAPESIUM SIKU-SIKU.')\n",
    "    print('Terimakasih')"
   ]
  },
  {
   "cell_type": "code",
   "execution_count": null,
   "id": "80c1dda9",
   "metadata": {},
   "outputs": [],
   "source": []
  }
 ],
 "metadata": {
  "kernelspec": {
   "display_name": "Python 3 (ipykernel)",
   "language": "python",
   "name": "python3"
  },
  "language_info": {
   "codemirror_mode": {
    "name": "ipython",
    "version": 3
   },
   "file_extension": ".py",
   "mimetype": "text/x-python",
   "name": "python",
   "nbconvert_exporter": "python",
   "pygments_lexer": "ipython3",
   "version": "3.9.7"
  }
 },
 "nbformat": 4,
 "nbformat_minor": 5
}
